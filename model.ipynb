{
 "cells": [
  {
   "cell_type": "code",
   "execution_count": 305,
   "metadata": {},
   "outputs": [],
   "source": [
    "import matplotlib.pyplot as plt\n",
    "import pandas as pd\n",
    "import numpy as np\n",
    "from sklearn.model_selection import train_test_split\n",
    "import category_encoders as ce\n",
    "from sklearn.metrics import accuracy_score\n",
    "\n"
   ]
  },
  {
   "cell_type": "code",
   "execution_count": 306,
   "metadata": {},
   "outputs": [
    {
     "data": {
      "text/html": [
       "<div>\n",
       "<style scoped>\n",
       "    .dataframe tbody tr th:only-of-type {\n",
       "        vertical-align: middle;\n",
       "    }\n",
       "\n",
       "    .dataframe tbody tr th {\n",
       "        vertical-align: top;\n",
       "    }\n",
       "\n",
       "    .dataframe thead th {\n",
       "        text-align: right;\n",
       "    }\n",
       "</style>\n",
       "<table border=\"1\" class=\"dataframe\">\n",
       "  <thead>\n",
       "    <tr style=\"text-align: right;\">\n",
       "      <th></th>\n",
       "      <th>Year</th>\n",
       "      <th>Seq</th>\n",
       "      <th>Glide</th>\n",
       "      <th>Disaster Group</th>\n",
       "      <th>Disaster Subgroup</th>\n",
       "      <th>Disaster Type</th>\n",
       "      <th>Disaster Subtype</th>\n",
       "      <th>Disaster Subsubtype</th>\n",
       "      <th>Event Name</th>\n",
       "      <th>Country</th>\n",
       "      <th>ISO</th>\n",
       "      <th>Region</th>\n",
       "      <th>Continent</th>\n",
       "      <th>Location</th>\n",
       "      <th>Origin</th>\n",
       "      <th>Associated Dis</th>\n",
       "      <th>Associated Dis2</th>\n",
       "      <th>OFDA Response</th>\n",
       "      <th>Appeal</th>\n",
       "      <th>Declaration</th>\n",
       "      <th>Aid Contribution</th>\n",
       "      <th>Dis Mag Value</th>\n",
       "      <th>Dis Mag Scale</th>\n",
       "      <th>Latitude</th>\n",
       "      <th>Longitude</th>\n",
       "      <th>Local Time</th>\n",
       "      <th>River Basin</th>\n",
       "      <th>Start Year</th>\n",
       "      <th>Start Month</th>\n",
       "      <th>Start Day</th>\n",
       "      <th>End Year</th>\n",
       "      <th>End Month</th>\n",
       "      <th>End Day</th>\n",
       "      <th>Total Deaths</th>\n",
       "      <th>No Injured</th>\n",
       "      <th>No Affected</th>\n",
       "      <th>No Homeless</th>\n",
       "      <th>Total Affected</th>\n",
       "      <th>Insured Damages ('000 US$)</th>\n",
       "      <th>Total Damages ('000 US$)</th>\n",
       "      <th>CPI</th>\n",
       "      <th>Adm Level</th>\n",
       "      <th>Admin1 Code</th>\n",
       "      <th>Admin2 Code</th>\n",
       "      <th>Geo Locations</th>\n",
       "    </tr>\n",
       "  </thead>\n",
       "  <tbody>\n",
       "    <tr>\n",
       "      <th>2</th>\n",
       "      <td>1902</td>\n",
       "      <td>12</td>\n",
       "      <td>NaN</td>\n",
       "      <td>Natural</td>\n",
       "      <td>Geophysical</td>\n",
       "      <td>Earthquake</td>\n",
       "      <td>Ground movement</td>\n",
       "      <td>NaN</td>\n",
       "      <td>NaN</td>\n",
       "      <td>Guatemala</td>\n",
       "      <td>GTM</td>\n",
       "      <td>Central America</td>\n",
       "      <td>Americas</td>\n",
       "      <td>Quezaltenango, San Marcos</td>\n",
       "      <td>NaN</td>\n",
       "      <td>Tsunami/Tidal wave</td>\n",
       "      <td>NaN</td>\n",
       "      <td>NaN</td>\n",
       "      <td>NaN</td>\n",
       "      <td>NaN</td>\n",
       "      <td>NaN</td>\n",
       "      <td>8.0</td>\n",
       "      <td>Richter</td>\n",
       "      <td>14</td>\n",
       "      <td>-91</td>\n",
       "      <td>20:20</td>\n",
       "      <td>NaN</td>\n",
       "      <td>1902</td>\n",
       "      <td>4.0</td>\n",
       "      <td>18.0</td>\n",
       "      <td>1902</td>\n",
       "      <td>4.0</td>\n",
       "      <td>18.0</td>\n",
       "      <td>2000.0</td>\n",
       "      <td>NaN</td>\n",
       "      <td>NaN</td>\n",
       "      <td>NaN</td>\n",
       "      <td>NaN</td>\n",
       "      <td>NaN</td>\n",
       "      <td>25000.0</td>\n",
       "      <td>3.350513</td>\n",
       "      <td>NaN</td>\n",
       "      <td>NaN</td>\n",
       "      <td>NaN</td>\n",
       "      <td>NaN</td>\n",
       "    </tr>\n",
       "    <tr>\n",
       "      <th>9</th>\n",
       "      <td>1905</td>\n",
       "      <td>3</td>\n",
       "      <td>NaN</td>\n",
       "      <td>Natural</td>\n",
       "      <td>Geophysical</td>\n",
       "      <td>Earthquake</td>\n",
       "      <td>Ground movement</td>\n",
       "      <td>NaN</td>\n",
       "      <td>NaN</td>\n",
       "      <td>India</td>\n",
       "      <td>IND</td>\n",
       "      <td>Southern Asia</td>\n",
       "      <td>Asia</td>\n",
       "      <td>Kangra</td>\n",
       "      <td>NaN</td>\n",
       "      <td>NaN</td>\n",
       "      <td>NaN</td>\n",
       "      <td>NaN</td>\n",
       "      <td>NaN</td>\n",
       "      <td>NaN</td>\n",
       "      <td>NaN</td>\n",
       "      <td>8.0</td>\n",
       "      <td>Richter</td>\n",
       "      <td>32.04</td>\n",
       "      <td>76.16</td>\n",
       "      <td>06:20</td>\n",
       "      <td>NaN</td>\n",
       "      <td>1905</td>\n",
       "      <td>4.0</td>\n",
       "      <td>4.0</td>\n",
       "      <td>1905</td>\n",
       "      <td>4.0</td>\n",
       "      <td>4.0</td>\n",
       "      <td>20000.0</td>\n",
       "      <td>NaN</td>\n",
       "      <td>NaN</td>\n",
       "      <td>NaN</td>\n",
       "      <td>NaN</td>\n",
       "      <td>NaN</td>\n",
       "      <td>25000.0</td>\n",
       "      <td>3.479379</td>\n",
       "      <td>NaN</td>\n",
       "      <td>NaN</td>\n",
       "      <td>NaN</td>\n",
       "      <td>NaN</td>\n",
       "    </tr>\n",
       "    <tr>\n",
       "      <th>10</th>\n",
       "      <td>1906</td>\n",
       "      <td>14</td>\n",
       "      <td>NaN</td>\n",
       "      <td>Natural</td>\n",
       "      <td>Geophysical</td>\n",
       "      <td>Earthquake</td>\n",
       "      <td>Ground movement</td>\n",
       "      <td>NaN</td>\n",
       "      <td>NaN</td>\n",
       "      <td>Chile</td>\n",
       "      <td>CHL</td>\n",
       "      <td>South America</td>\n",
       "      <td>Americas</td>\n",
       "      <td>Valparaiso</td>\n",
       "      <td>NaN</td>\n",
       "      <td>Tsunami/Tidal wave</td>\n",
       "      <td>NaN</td>\n",
       "      <td>NaN</td>\n",
       "      <td>NaN</td>\n",
       "      <td>NaN</td>\n",
       "      <td>NaN</td>\n",
       "      <td>8.0</td>\n",
       "      <td>Richter</td>\n",
       "      <td>33.05</td>\n",
       "      <td>71.4</td>\n",
       "      <td>19:57</td>\n",
       "      <td>NaN</td>\n",
       "      <td>1906</td>\n",
       "      <td>8.0</td>\n",
       "      <td>16.0</td>\n",
       "      <td>1906</td>\n",
       "      <td>8.0</td>\n",
       "      <td>16.0</td>\n",
       "      <td>20000.0</td>\n",
       "      <td>NaN</td>\n",
       "      <td>NaN</td>\n",
       "      <td>NaN</td>\n",
       "      <td>NaN</td>\n",
       "      <td>NaN</td>\n",
       "      <td>100000.0</td>\n",
       "      <td>3.479379</td>\n",
       "      <td>NaN</td>\n",
       "      <td>NaN</td>\n",
       "      <td>NaN</td>\n",
       "      <td>NaN</td>\n",
       "    </tr>\n",
       "    <tr>\n",
       "      <th>11</th>\n",
       "      <td>1906</td>\n",
       "      <td>2</td>\n",
       "      <td>NaN</td>\n",
       "      <td>Natural</td>\n",
       "      <td>Geophysical</td>\n",
       "      <td>Earthquake</td>\n",
       "      <td>Ground movement</td>\n",
       "      <td>NaN</td>\n",
       "      <td>NaN</td>\n",
       "      <td>Colombia</td>\n",
       "      <td>COL</td>\n",
       "      <td>South America</td>\n",
       "      <td>Americas</td>\n",
       "      <td>Tumako</td>\n",
       "      <td>NaN</td>\n",
       "      <td>Tsunami/Tidal wave</td>\n",
       "      <td>NaN</td>\n",
       "      <td>NaN</td>\n",
       "      <td>No</td>\n",
       "      <td>No</td>\n",
       "      <td>NaN</td>\n",
       "      <td>9.0</td>\n",
       "      <td>Richter</td>\n",
       "      <td>1.51 N</td>\n",
       "      <td>78.46 W</td>\n",
       "      <td>NaN</td>\n",
       "      <td>NaN</td>\n",
       "      <td>1906</td>\n",
       "      <td>1.0</td>\n",
       "      <td>31.0</td>\n",
       "      <td>1906</td>\n",
       "      <td>1.0</td>\n",
       "      <td>31.0</td>\n",
       "      <td>400.0</td>\n",
       "      <td>NaN</td>\n",
       "      <td>NaN</td>\n",
       "      <td>NaN</td>\n",
       "      <td>NaN</td>\n",
       "      <td>NaN</td>\n",
       "      <td>NaN</td>\n",
       "      <td>3.479379</td>\n",
       "      <td>NaN</td>\n",
       "      <td>NaN</td>\n",
       "      <td>NaN</td>\n",
       "      <td>NaN</td>\n",
       "    </tr>\n",
       "    <tr>\n",
       "      <th>15</th>\n",
       "      <td>1907</td>\n",
       "      <td>6</td>\n",
       "      <td>NaN</td>\n",
       "      <td>Natural</td>\n",
       "      <td>Geophysical</td>\n",
       "      <td>Earthquake</td>\n",
       "      <td>Ground movement</td>\n",
       "      <td>NaN</td>\n",
       "      <td>NaN</td>\n",
       "      <td>China</td>\n",
       "      <td>CHN</td>\n",
       "      <td>Eastern Asia</td>\n",
       "      <td>Asia</td>\n",
       "      <td>Tien Shan</td>\n",
       "      <td>NaN</td>\n",
       "      <td>NaN</td>\n",
       "      <td>NaN</td>\n",
       "      <td>NaN</td>\n",
       "      <td>NaN</td>\n",
       "      <td>NaN</td>\n",
       "      <td>NaN</td>\n",
       "      <td>7.0</td>\n",
       "      <td>Richter</td>\n",
       "      <td>38.5</td>\n",
       "      <td>69.9</td>\n",
       "      <td>09:23</td>\n",
       "      <td>NaN</td>\n",
       "      <td>1907</td>\n",
       "      <td>10.0</td>\n",
       "      <td>21.0</td>\n",
       "      <td>1907</td>\n",
       "      <td>10.0</td>\n",
       "      <td>21.0</td>\n",
       "      <td>12000.0</td>\n",
       "      <td>NaN</td>\n",
       "      <td>NaN</td>\n",
       "      <td>NaN</td>\n",
       "      <td>NaN</td>\n",
       "      <td>NaN</td>\n",
       "      <td>NaN</td>\n",
       "      <td>3.608245</td>\n",
       "      <td>NaN</td>\n",
       "      <td>NaN</td>\n",
       "      <td>NaN</td>\n",
       "      <td>NaN</td>\n",
       "    </tr>\n",
       "  </tbody>\n",
       "</table>\n",
       "</div>"
      ],
      "text/plain": [
       "    Year  Seq Glide Disaster Group Disaster Subgroup Disaster Type  \\\n",
       "2   1902   12   NaN        Natural       Geophysical    Earthquake   \n",
       "9   1905    3   NaN        Natural       Geophysical    Earthquake   \n",
       "10  1906   14   NaN        Natural       Geophysical    Earthquake   \n",
       "11  1906    2   NaN        Natural       Geophysical    Earthquake   \n",
       "15  1907    6   NaN        Natural       Geophysical    Earthquake   \n",
       "\n",
       "   Disaster Subtype Disaster Subsubtype Event Name    Country  ISO  \\\n",
       "2   Ground movement                 NaN        NaN  Guatemala  GTM   \n",
       "9   Ground movement                 NaN        NaN      India  IND   \n",
       "10  Ground movement                 NaN        NaN      Chile  CHL   \n",
       "11  Ground movement                 NaN        NaN   Colombia  COL   \n",
       "15  Ground movement                 NaN        NaN      China  CHN   \n",
       "\n",
       "             Region Continent                   Location Origin  \\\n",
       "2   Central America  Americas  Quezaltenango, San Marcos    NaN   \n",
       "9     Southern Asia      Asia                     Kangra    NaN   \n",
       "10    South America  Americas                 Valparaiso    NaN   \n",
       "11    South America  Americas                     Tumako    NaN   \n",
       "15     Eastern Asia      Asia                  Tien Shan    NaN   \n",
       "\n",
       "        Associated Dis Associated Dis2 OFDA Response Appeal Declaration  \\\n",
       "2   Tsunami/Tidal wave             NaN           NaN    NaN         NaN   \n",
       "9                  NaN             NaN           NaN    NaN         NaN   \n",
       "10  Tsunami/Tidal wave             NaN           NaN    NaN         NaN   \n",
       "11  Tsunami/Tidal wave             NaN           NaN     No          No   \n",
       "15                 NaN             NaN           NaN    NaN         NaN   \n",
       "\n",
       "    Aid Contribution  Dis Mag Value Dis Mag Scale Latitude Longitude  \\\n",
       "2                NaN            8.0       Richter       14       -91   \n",
       "9                NaN            8.0       Richter    32.04     76.16   \n",
       "10               NaN            8.0       Richter    33.05      71.4   \n",
       "11               NaN            9.0       Richter   1.51 N  78.46 W    \n",
       "15               NaN            7.0       Richter     38.5      69.9   \n",
       "\n",
       "   Local Time River Basin  Start Year  Start Month  Start Day  End Year  \\\n",
       "2       20:20         NaN        1902          4.0       18.0      1902   \n",
       "9       06:20         NaN        1905          4.0        4.0      1905   \n",
       "10      19:57         NaN        1906          8.0       16.0      1906   \n",
       "11        NaN         NaN        1906          1.0       31.0      1906   \n",
       "15      09:23         NaN        1907         10.0       21.0      1907   \n",
       "\n",
       "    End Month  End Day  Total Deaths  No Injured  No Affected  No Homeless  \\\n",
       "2         4.0     18.0        2000.0         NaN          NaN          NaN   \n",
       "9         4.0      4.0       20000.0         NaN          NaN          NaN   \n",
       "10        8.0     16.0       20000.0         NaN          NaN          NaN   \n",
       "11        1.0     31.0         400.0         NaN          NaN          NaN   \n",
       "15       10.0     21.0       12000.0         NaN          NaN          NaN   \n",
       "\n",
       "    Total Affected  Insured Damages ('000 US$)  Total Damages ('000 US$)  \\\n",
       "2              NaN                         NaN                   25000.0   \n",
       "9              NaN                         NaN                   25000.0   \n",
       "10             NaN                         NaN                  100000.0   \n",
       "11             NaN                         NaN                       NaN   \n",
       "15             NaN                         NaN                       NaN   \n",
       "\n",
       "         CPI Adm Level Admin1 Code Admin2 Code Geo Locations  \n",
       "2   3.350513       NaN         NaN         NaN           NaN  \n",
       "9   3.479379       NaN         NaN         NaN           NaN  \n",
       "10  3.479379       NaN         NaN         NaN           NaN  \n",
       "11  3.479379       NaN         NaN         NaN           NaN  \n",
       "15  3.608245       NaN         NaN         NaN           NaN  "
      ]
     },
     "execution_count": 306,
     "metadata": {},
     "output_type": "execute_result"
    }
   ],
   "source": [
    "\n",
    "# Load the dataset\n",
    "df = pd.read_csv('DISASTERS/1900_2021_DISASTERS.xlsx - emdat data.csv')\n",
    "df_original = df.copy()\n",
    "\n",
    "# Filter out data whose value is earthquake in the Disaster Type column\n",
    "df = df[df['Disaster Type'] == 'Earthquake']\n",
    "df.head()"
   ]
  },
  {
   "cell_type": "code",
   "execution_count": 307,
   "metadata": {},
   "outputs": [
    {
     "name": "stdout",
     "output_type": "stream",
     "text": [
      "Overview of the dataset:n\n",
      "Number of rows:  1544\n",
      "nNumber of features: 45\n",
      "nData Features:\n",
      "['Year', 'Seq', 'Glide', 'Disaster Group', 'Disaster Subgroup', 'Disaster Type', 'Disaster Subtype', 'Disaster Subsubtype', 'Event Name', 'Country', 'ISO', 'Region', 'Continent', 'Location', 'Origin', 'Associated Dis', 'Associated Dis2', 'OFDA Response', 'Appeal', 'Declaration', 'Aid Contribution', 'Dis Mag Value', 'Dis Mag Scale', 'Latitude', 'Longitude', 'Local Time', 'River Basin', 'Start Year', 'Start Month', 'Start Day', 'End Year', 'End Month', 'End Day', 'Total Deaths', 'No Injured', 'No Affected', 'No Homeless', 'Total Affected', \"Insured Damages ('000 US$)\", \"Total Damages ('000 US$)\", 'CPI', 'Adm Level', 'Admin1 Code', 'Admin2 Code', 'Geo Locations']\n",
      "nMissing values: 26175\n",
      "nUnique values:\n",
      "Year                           120\n",
      "Seq                            536\n",
      "Glide                           81\n",
      "Disaster Group                   1\n",
      "Disaster Subgroup                1\n",
      "Disaster Type                    1\n",
      "Disaster Subtype                 2\n",
      "Disaster Subsubtype              0\n",
      "Event Name                       1\n",
      "Country                        122\n",
      "ISO                            122\n",
      "Region                          23\n",
      "Continent                        5\n",
      "Location                      1426\n",
      "Origin                           5\n",
      "Associated Dis                   7\n",
      "Associated Dis2                  7\n",
      "OFDA Response                    1\n",
      "Appeal                           2\n",
      "Declaration                      2\n",
      "Aid Contribution                97\n",
      "Dis Mag Value                   10\n",
      "Dis Mag Scale                    1\n",
      "Latitude                      1329\n",
      "Longitude                     1388\n",
      "Local Time                     764\n",
      "River Basin                      5\n",
      "Start Year                     120\n",
      "Start Month                     12\n",
      "Start Day                       31\n",
      "End Year                       120\n",
      "End Month                       12\n",
      "End Day                         31\n",
      "Total Deaths                   308\n",
      "No Injured                     397\n",
      "No Affected                    455\n",
      "No Homeless                    281\n",
      "Total Affected                 962\n",
      "Insured Damages ('000 US$)      65\n",
      "Total Damages ('000 US$)       283\n",
      "CPI                            110\n",
      "Adm Level                        3\n",
      "Admin1 Code                    140\n",
      "Admin2 Code                    384\n",
      "Geo Locations                  480\n",
      "dtype: int64\n"
     ]
    }
   ],
   "source": [
    "pd.set_option('display.max_columns', None)\n",
    "\n",
    "import plotly.express as px #for visualization\n",
    "\n",
    "\n",
    "#Get overview of the data\n",
    "def dataoveriew(df, message):\n",
    "    print(f'{message}:n')\n",
    "    print('Number of rows: ', df.shape[0])\n",
    "    print(\"nNumber of features:\", df.shape[1])\n",
    "    print(\"nData Features:\")\n",
    "    print(df.columns.tolist())\n",
    "    print(\"nMissing values:\", df.isnull().sum().values.sum())\n",
    "    print(\"nUnique values:\")\n",
    "    print(df.nunique())\n",
    "\n",
    "dataoveriew(df, 'Overview of the dataset')"
   ]
  },
  {
   "cell_type": "code",
   "execution_count": 308,
   "metadata": {},
   "outputs": [],
   "source": [
    "# columns_to_remove = ['Seq', 'Glide', 'Disaster Group', 'Disaster Subgroup', 'Disaster Type', 'Disaster Subtype', 'Disaster Subsubtype', 'Event Name', 'Associated Dis', 'Associated Dis2', 'OFDA Response', 'Appeal', 'Declaration', 'Aid Contribution', 'River Basin', 'No Injured', 'No Affected', 'No Homeless', 'Total Affected',\n",
    "#                       'CPI', 'Adm Level', 'Admin1 Code', 'Admin2 Code', 'Geo Locations','Origin', 'Dis Mag Scale']\n",
    "# df.drop(columns_to_remove, axis=1, inplace=True)\n",
    "# # 'Country', 'ISO', 'Region', 'Continent', 'Location', 'Origin' ,  'Dis Mag Value', 'Dis Mag Scale', 'Latitude', 'Longitude', 'Local Time'\n",
    "selected_features = ['Year', 'Country', 'Latitude', 'Longitude', 'Start Year', 'Start Month', 'Start Day', 'Dis Mag Value', 'Total Deaths', \"Total Damages ('000 US$)\"]\n",
    "\n",
    "# df.drop([\"Insured Damages ('000 US$)\"\t,\"Total Damages ('000 US$)\"], axis=1, inplace=True)\n",
    "# # Save the new dataset\n",
    "\n",
    "df = df[selected_features]\n",
    "df.to_csv('new_dataset.csv')"
   ]
  },
  {
   "cell_type": "code",
   "execution_count": 309,
   "metadata": {},
   "outputs": [
    {
     "name": "stdout",
     "output_type": "stream",
     "text": [
      "Overview of the dataset:n\n",
      "Number of rows:  1544\n",
      "nNumber of features: 10\n",
      "nData Features:\n",
      "['Year', 'Country', 'Latitude', 'Longitude', 'Start Year', 'Start Month', 'Start Day', 'Dis Mag Value', 'Total Deaths', \"Total Damages ('000 US$)\"]\n",
      "nMissing values: 1513\n",
      "nUnique values:\n",
      "Year                         120\n",
      "Country                      122\n",
      "Latitude                    1329\n",
      "Longitude                   1388\n",
      "Start Year                   120\n",
      "Start Month                   12\n",
      "Start Day                     31\n",
      "Dis Mag Value                 10\n",
      "Total Deaths                 308\n",
      "Total Damages ('000 US$)     283\n",
      "dtype: int64\n"
     ]
    }
   ],
   "source": [
    "dataoveriew(df, 'Overview of the dataset')"
   ]
  },
  {
   "cell_type": "code",
   "execution_count": 310,
   "metadata": {},
   "outputs": [
    {
     "data": {
      "image/png": "[encoded data removed]",
      "text/plain": [
       "<Figure size 640x480 with 1 Axes>"
      ]
     },
     "metadata": {},
     "output_type": "display_data"
    }
   ],
   "source": [
    "# Plot a histogram of the magnitudes\n",
    "plt.hist(df['Dis Mag Value'], bins=20)\n",
    "plt.xlabel('Magnitude')\n",
    "plt.ylabel('Count')\n",
    "plt.show()"
   ]
  },
  {
   "cell_type": "code",
   "execution_count": 311,
   "metadata": {},
   "outputs": [],
   "source": [
    "df['Latitude'] = df['Latitude'].str.extract(r'(\\d+\\.\\d+)')\n",
    "df['Latitude'] = df['Latitude'].astype(float)\n",
    "\n",
    "# Convert Longitude column to float\n",
    "df['Longitude'] = df['Longitude'].str.extract(r'(\\d+\\.\\d+)')\n",
    "df['Longitude'] = df['Longitude'].astype(float)"
   ]
  },
  {
   "cell_type": "code",
   "execution_count": 312,
   "metadata": {},
   "outputs": [],
   "source": [
    "df['Latitude'] = df.groupby('Country')['Latitude'].transform(lambda x: x.fillna(x.mean()))\n",
    "df['Longitude'] = df.groupby('Country')['Longitude'].transform(lambda x: x.fillna(x.mean()))"
   ]
  },
  {
   "cell_type": "code",
   "execution_count": 313,
   "metadata": {},
   "outputs": [
    {
     "name": "stdout",
     "output_type": "stream",
     "text": [
      "90.56636428571427\n"
     ]
    },
    {
     "data": {
      "image/png": "[encoded data removed]",
      "text/plain": [
       "<Figure size 1200x1000 with 1 Axes>"
      ]
     },
     "metadata": {},
     "output_type": "display_data"
    }
   ],
   "source": [
    "from mpl_toolkits.basemap import Basemap\n",
    "\n",
    "m = Basemap(projection='mill',llcrnrlat=-80,urcrnrlat=80, llcrnrlon=-180,urcrnrlon=180,lat_ts=20,resolution='c')\n",
    "\n",
    "\n",
    "longitudes = df[\"Longitude\"].to_list()\n",
    "latitudes = df[\"Latitude\"].to_list()\n",
    "print(longitudes[0])\n",
    "#m = Basemap(width=12000000,height=9000000,projection='lcc',\n",
    "            #resolution=None,lat_1=80.,lat_2=55,lat_0=80,lon_0=-107.)\n",
    "x,y = m(longitudes,latitudes)\n",
    "\n",
    "fig = plt.figure(figsize=(12,10))\n",
    "plt.title(\"All affected areas\")\n",
    "m.plot(x, y, \"o\", markersize = 2, color = 'blue')\n",
    "m.drawcoastlines()\n",
    "m.fillcontinents(color='coral',lake_color='aqua')\n",
    "m.drawmapboundary()\n",
    "m.drawcountries()\n",
    "plt.show()"
   ]
  },
  {
   "cell_type": "code",
   "execution_count": 314,
   "metadata": {},
   "outputs": [
    {
     "data": {
      "text/html": [
       "<div>\n",
       "<style scoped>\n",
       "    .dataframe tbody tr th:only-of-type {\n",
       "        vertical-align: middle;\n",
       "    }\n",
       "\n",
       "    .dataframe tbody tr th {\n",
       "        vertical-align: top;\n",
       "    }\n",
       "\n",
       "    .dataframe thead th {\n",
       "        text-align: right;\n",
       "    }\n",
       "</style>\n",
       "<table border=\"1\" class=\"dataframe\">\n",
       "  <thead>\n",
       "    <tr style=\"text-align: right;\">\n",
       "      <th></th>\n",
       "      <th>Year</th>\n",
       "      <th>Country</th>\n",
       "      <th>Latitude</th>\n",
       "      <th>Longitude</th>\n",
       "      <th>Start Year</th>\n",
       "      <th>Start Month</th>\n",
       "      <th>Start Day</th>\n",
       "      <th>Dis Mag Value</th>\n",
       "      <th>Total Deaths</th>\n",
       "      <th>Total Damages ('000 US$)</th>\n",
       "    </tr>\n",
       "  </thead>\n",
       "  <tbody>\n",
       "    <tr>\n",
       "      <th>2</th>\n",
       "      <td>1902</td>\n",
       "      <td>Guatemala</td>\n",
       "      <td>14.510114</td>\n",
       "      <td>90.566364</td>\n",
       "      <td>1902</td>\n",
       "      <td>4.0</td>\n",
       "      <td>18.0</td>\n",
       "      <td>8.0</td>\n",
       "      <td>2000.0</td>\n",
       "      <td>25000.0</td>\n",
       "    </tr>\n",
       "    <tr>\n",
       "      <th>9</th>\n",
       "      <td>1905</td>\n",
       "      <td>India</td>\n",
       "      <td>32.040000</td>\n",
       "      <td>76.160000</td>\n",
       "      <td>1905</td>\n",
       "      <td>4.0</td>\n",
       "      <td>4.0</td>\n",
       "      <td>8.0</td>\n",
       "      <td>20000.0</td>\n",
       "      <td>25000.0</td>\n",
       "    </tr>\n",
       "    <tr>\n",
       "      <th>10</th>\n",
       "      <td>1906</td>\n",
       "      <td>Chile</td>\n",
       "      <td>33.050000</td>\n",
       "      <td>71.400000</td>\n",
       "      <td>1906</td>\n",
       "      <td>8.0</td>\n",
       "      <td>16.0</td>\n",
       "      <td>8.0</td>\n",
       "      <td>20000.0</td>\n",
       "      <td>100000.0</td>\n",
       "    </tr>\n",
       "    <tr>\n",
       "      <th>11</th>\n",
       "      <td>1906</td>\n",
       "      <td>Colombia</td>\n",
       "      <td>1.510000</td>\n",
       "      <td>78.460000</td>\n",
       "      <td>1906</td>\n",
       "      <td>1.0</td>\n",
       "      <td>31.0</td>\n",
       "      <td>9.0</td>\n",
       "      <td>400.0</td>\n",
       "      <td>NaN</td>\n",
       "    </tr>\n",
       "    <tr>\n",
       "      <th>15</th>\n",
       "      <td>1907</td>\n",
       "      <td>China</td>\n",
       "      <td>38.500000</td>\n",
       "      <td>69.900000</td>\n",
       "      <td>1907</td>\n",
       "      <td>10.0</td>\n",
       "      <td>21.0</td>\n",
       "      <td>7.0</td>\n",
       "      <td>12000.0</td>\n",
       "      <td>NaN</td>\n",
       "    </tr>\n",
       "  </tbody>\n",
       "</table>\n",
       "</div>"
      ],
      "text/plain": [
       "    Year    Country   Latitude  Longitude  Start Year  Start Month  Start Day  \\\n",
       "2   1902  Guatemala  14.510114  90.566364        1902          4.0       18.0   \n",
       "9   1905      India  32.040000  76.160000        1905          4.0        4.0   \n",
       "10  1906      Chile  33.050000  71.400000        1906          8.0       16.0   \n",
       "11  1906   Colombia   1.510000  78.460000        1906          1.0       31.0   \n",
       "15  1907      China  38.500000  69.900000        1907         10.0       21.0   \n",
       "\n",
       "    Dis Mag Value  Total Deaths  Total Damages ('000 US$)  \n",
       "2             8.0        2000.0                   25000.0  \n",
       "9             8.0       20000.0                   25000.0  \n",
       "10            8.0       20000.0                  100000.0  \n",
       "11            9.0         400.0                       NaN  \n",
       "15            7.0       12000.0                       NaN  "
      ]
     },
     "execution_count": 314,
     "metadata": {},
     "output_type": "execute_result"
    }
   ],
   "source": [
    "df.head()"
   ]
  },
  {
   "cell_type": "code",
   "execution_count": 315,
   "metadata": {},
   "outputs": [
    {
     "data": {
      "text/plain": [
       "Year                          0\n",
       "Country                       0\n",
       "Latitude                      0\n",
       "Longitude                     1\n",
       "Start Year                    0\n",
       "Start Month                   2\n",
       "Start Day                     3\n",
       "Dis Mag Value                89\n",
       "Total Deaths                381\n",
       "Total Damages ('000 US$)    956\n",
       "dtype: int64"
      ]
     },
     "execution_count": 315,
     "metadata": {},
     "output_type": "execute_result"
    }
   ],
   "source": [
    "df.isnull().sum()"
   ]
  },
  {
   "cell_type": "code",
   "execution_count": 316,
   "metadata": {},
   "outputs": [
    {
     "name": "stdout",
     "output_type": "stream",
     "text": [
      "Overview of the dataset:n\n",
      "Number of rows:  1544\n",
      "nNumber of features: 10\n",
      "nData Features:\n",
      "['Year', 'Country', 'Latitude', 'Longitude', 'Start Year', 'Start Month', 'Start Day', 'Dis Mag Value', 'Total Deaths', \"Total Damages ('000 US$)\"]\n",
      "nMissing values: 1432\n",
      "nUnique values:\n",
      "Year                         120\n",
      "Country                      122\n",
      "Latitude                    1295\n",
      "Longitude                   1350\n",
      "Start Year                   120\n",
      "Start Month                   12\n",
      "Start Day                     31\n",
      "Dis Mag Value                 10\n",
      "Total Deaths                 308\n",
      "Total Damages ('000 US$)     283\n",
      "dtype: int64\n"
     ]
    }
   ],
   "source": [
    "dataoveriew(df, 'Overview of the dataset')"
   ]
  },
  {
   "cell_type": "code",
   "execution_count": 317,
   "metadata": {},
   "outputs": [],
   "source": [
    "# # Convert 'NaN' values to None\n",
    "# df['Local Time'] = df['Local Time'].replace('NaN', None)\n",
    "# # Parse and standardize the time using pd.to_datetime()\n",
    "# df['Local Time'] = pd.to_datetime(df['Local Time'], format='%H:%M', errors='coerce').dt.hour * 60 + pd.to_datetime(df['Local Time'], format='%H:%M', errors='coerce').dt.minute"
   ]
  },
  {
   "cell_type": "code",
   "execution_count": 318,
   "metadata": {},
   "outputs": [],
   "source": [
    "# df[['Local Time', 'Dis Mag Value', 'Start Month', 'Start Day', 'End Year', 'End Month', 'End Day']] = df.groupby('Country')[['Local Time', 'Dis Mag Value', 'Start Month', 'Start Day', 'End Year', 'End Month', 'End Day']].transform(lambda x: x.fillna(x.mean()))\n",
    "# df['Total Deaths'].fillna(0, inplace=True)"
   ]
  },
  {
   "cell_type": "code",
   "execution_count": 320,
   "metadata": {},
   "outputs": [],
   "source": [
    "# Initialize BinaryEncoder\n",
    "# encoder = ce.BinaryEncoder(cols=['Country', 'ISO', 'Region', 'Continent', 'Location'])\n",
    "\n",
    "# # Apply binary encoding\n",
    "# df = encoder.fit_transform(df)\n",
    "\n",
    "# df = pd.get_dummies(df, columns=['Country', 'ISO', 'Region', 'Continent', 'Location'])\n",
    "# from sklearn.preprocessing import LabelEncoder\n",
    "\n",
    "# label_encoder = LabelEncoder()\n",
    "\n",
    "# # encode labels in column 'species'\n",
    "# df['Country', 'ISO', 'Region', 'Continent', 'Location'] = label_encoder.fit_transform(df['Country', 'ISO', 'Region', 'Continent', 'Location'])\n",
    "\n",
    "\n",
    "from sklearn.preprocessing import OrdinalEncoder\n",
    "\n",
    "# create an instance of the encoder\n",
    "encoder = OrdinalEncoder()\n",
    "\n",
    "# define the columns to encode\n",
    "# cols_to_encode = ['Country', 'ISO', 'Region', 'Continent', 'Location']\n",
    "cols_to_encode = ['Country']\n",
    "\n",
    "# fit and transform the data\n",
    "df[cols_to_encode] = encoder.fit_transform(df[cols_to_encode])"
   ]
  },
  {
   "cell_type": "code",
   "execution_count": 321,
   "metadata": {},
   "outputs": [
    {
     "data": {
      "application/vnd.plotly.v1+json": {
       "config": {
        "plotlyServerURL": "https://plot.ly"
       },
       "data": [
        {
         "coloraxis": "coloraxis",
         "hovertemplate": "x: %{x}<br>y: %{y}<br>color: %{z}<extra></extra>",
         "name": "0",
         "type": "heatmap",
         "x": [
          "Year",
          "Country",
          "Latitude",
          "Longitude",
          "Start Year",
          "Start Month",
          "Start Day",
          "Dis Mag Value",
          "Total Deaths",
          "Total Damages ('000 US$)"
         ],
         "xaxis": "x",
         "y": [
          "Year",
          "Country",
          "Latitude",
          "Longitude",
          "Start Year",
          "Start Month",
          "Start Day",
          "Dis Mag Value",
          "Total Deaths",
          "Total Damages ('000 US$)"
         ],
         "yaxis": "y",
         "z": [
          [
           1,
           -0.10216816353892964,
           -0.11159116153180071,
           0.07350810817865458,
           0.9987657720079861,
           -0.0067586414800900755,
           0.021493516893769313,
           -0.09215256198479276,
           -0.061412433822554215,
           0.07508046614176245
          ],
          [
           -0.10216816353892964,
           1,
           0.02552344189682283,
           0.00398976772752644,
           -0.10273091686858984,
           0.0037882898746983886,
           0.021734804201314115,
           0.045933365716356506,
           -0.030018792666668067,
           -0.009176383936660674
          ],
          [
           -0.11159116153180071,
           0.02552344189682283,
           1,
           -0.33663724109347276,
           -0.1104279672634427,
           -0.042672779581514185,
           0.030082723407660005,
           -0.09190133287097874,
           0.025241342305674343,
           0.059769356100330746
          ],
          [
           0.07350810817865458,
           0.00398976772752644,
           -0.33663724109347276,
           1,
           0.07142010229732583,
           -0.013781479064916669,
           -0.03814621325276961,
           0.11337268107278058,
           0.01761659378552062,
           0.06979093088516498
          ],
          [
           0.9987657720079861,
           -0.10273091686858984,
           -0.1104279672634427,
           0.07142010229732583,
           1,
           -0.007077803296180431,
           0.020649672949738296,
           -0.09252271354031928,
           -0.06164942756789924,
           0.07508046614176245
          ],
          [
           -0.0067586414800900755,
           0.0037882898746983886,
           -0.042672779581514185,
           -0.013781479064916669,
           -0.007077803296180431,
           1,
           0.004873942079179142,
           0.0006859809183394441,
           0.03045999864501621,
           -0.06849742209130219
          ],
          [
           0.021493516893769313,
           0.021734804201314115,
           0.030082723407660005,
           -0.03814621325276961,
           0.020649672949738296,
           0.004873942079179142,
           1,
           0.005991097184850495,
           0.025309472391021975,
           -0.009835504919414246
          ],
          [
           -0.09215256198479276,
           0.045933365716356506,
           -0.09190133287097874,
           0.11337268107278058,
           -0.09252271354031928,
           0.0006859809183394441,
           0.005991097184850495,
           1,
           0.17325517124397746,
           0.0535664617223787
          ],
          [
           -0.061412433822554215,
           -0.030018792666668067,
           0.025241342305674343,
           0.01761659378552062,
           -0.06164942756789924,
           0.03045999864501621,
           0.025309472391021975,
           0.17325517124397746,
           1,
           0.12014603409122566
          ],
          [
           0.07508046614176245,
           -0.009176383936660674,
           0.059769356100330746,
           0.06979093088516498,
           0.07508046614176245,
           -0.06849742209130219,
           -0.009835504919414246,
           0.0535664617223787,
           0.12014603409122566,
           1
          ]
         ]
        }
       ],
       "layout": {
        "coloraxis": {
         "colorscale": [
          [
           0,
           "#0d0887"
          ],
          [
           0.1111111111111111,
           "#46039f"
          ],
          [
           0.2222222222222222,
           "#7201a8"
          ],
          [
           0.3333333333333333,
           "#9c179e"
          ],
          [
           0.4444444444444444,
           "#bd3786"
          ],
          [
           0.5555555555555556,
           "#d8576b"
          ],
          [
           0.6666666666666666,
           "#ed7953"
          ],
          [
           0.7777777777777778,
           "#fb9f3a"
          ],
          [
           0.8888888888888888,
           "#fdca26"
          ],
          [
           1,
           "#f0f921"
          ]
         ]
        },
        "height": 1000,
        "margin": {
         "t": 60
        },
        "template": {
         "data": {
          "bar": [
           {
            "error_x": {
             "color": "#2a3f5f"
            },
            "error_y": {
             "color": "#2a3f5f"
            },
            "marker": {
             "line": {
              "color": "#E5ECF6",
              "width": 0.5
             },
             "pattern": {
              "fillmode": "overlay",
              "size": 10,
              "solidity": 0.2
             }
            },
            "type": "bar"
           }
          ],
          "barpolar": [
           {
            "marker": {
             "line": {
              "color": "#E5ECF6",
              "width": 0.5
             },
             "pattern": {
              "fillmode": "overlay",
              "size": 10,
              "solidity": 0.2
             }
            },
            "type": "barpolar"
           }
          ],
          "carpet": [
           {
            "aaxis": {
             "endlinecolor": "#2a3f5f",
             "gridcolor": "white",
             "linecolor": "white",
             "minorgridcolor": "white",
             "startlinecolor": "#2a3f5f"
            },
            "baxis": {
             "endlinecolor": "#2a3f5f",
             "gridcolor": "white",
             "linecolor": "white",
             "minorgridcolor": "white",
             "startlinecolor": "#2a3f5f"
            },
            "type": "carpet"
           }
          ],
          "choropleth": [
           {
            "colorbar": {
             "outlinewidth": 0,
             "ticks": ""
            },
            "type": "choropleth"
           }
          ],
          "contour": [
           {
            "colorbar": {
             "outlinewidth": 0,
             "ticks": ""
            },
            "colorscale": [
             [
              0,
              "#0d0887"
             ],
             [
              0.1111111111111111,
              "#46039f"
             ],
             [
              0.2222222222222222,
              "#7201a8"
             ],
             [
              0.3333333333333333,
              "#9c179e"
             ],
             [
              0.4444444444444444,
              "#bd3786"
             ],
             [
              0.5555555555555556,
              "#d8576b"
             ],
             [
              0.6666666666666666,
              "#ed7953"
             ],
             [
              0.7777777777777778,
              "#fb9f3a"
             ],
             [
              0.8888888888888888,
              "#fdca26"
             ],
             [
              1,
              "#f0f921"
             ]
            ],
            "type": "contour"
           }
          ],
          "contourcarpet": [
           {
            "colorbar": {
             "outlinewidth": 0,
             "ticks": ""
            },
            "type": "contourcarpet"
           }
          ],
          "heatmap": [
           {
            "colorbar": {
             "outlinewidth": 0,
             "ticks": ""
            },
            "colorscale": [
             [
              0,
              "#0d0887"
             ],
             [
              0.1111111111111111,
              "#46039f"
             ],
             [
              0.2222222222222222,
              "#7201a8"
             ],
             [
              0.3333333333333333,
              "#9c179e"
             ],
             [
              0.4444444444444444,
              "#bd3786"
             ],
             [
              0.5555555555555556,
              "#d8576b"
             ],
             [
              0.6666666666666666,
              "#ed7953"
             ],
             [
              0.7777777777777778,
              "#fb9f3a"
             ],
             [
              0.8888888888888888,
              "#fdca26"
             ],
             [
              1,
              "#f0f921"
             ]
            ],
            "type": "heatmap"
           }
          ],
          "heatmapgl": [
           {
            "colorbar": {
             "outlinewidth": 0,
             "ticks": ""
            },
            "colorscale": [
             [
              0,
              "#0d0887"
             ],
             [
              0.1111111111111111,
              "#46039f"
             ],
             [
              0.2222222222222222,
              "#7201a8"
             ],
             [
              0.3333333333333333,
              "#9c179e"
             ],
             [
              0.4444444444444444,
              "#bd3786"
             ],
             [
              0.5555555555555556,
              "#d8576b"
             ],
             [
              0.6666666666666666,
              "#ed7953"
             ],
             [
              0.7777777777777778,
              "#fb9f3a"
             ],
             [
              0.8888888888888888,
              "#fdca26"
             ],
             [
              1,
              "#f0f921"
             ]
            ],
            "type": "heatmapgl"
           }
          ],
          "histogram": [
           {
            "marker": {
             "pattern": {
              "fillmode": "overlay",
              "size": 10,
              "solidity": 0.2
             }
            },
            "type": "histogram"
           }
          ],
          "histogram2d": [
           {
            "colorbar": {
             "outlinewidth": 0,
             "ticks": ""
            },
            "colorscale": [
             [
              0,
              "#0d0887"
             ],
             [
              0.1111111111111111,
              "#46039f"
             ],
             [
              0.2222222222222222,
              "#7201a8"
             ],
             [
              0.3333333333333333,
              "#9c179e"
             ],
             [
              0.4444444444444444,
              "#bd3786"
             ],
             [
              0.5555555555555556,
              "#d8576b"
             ],
             [
              0.6666666666666666,
              "#ed7953"
             ],
             [
              0.7777777777777778,
              "#fb9f3a"
             ],
             [
              0.8888888888888888,
              "#fdca26"
             ],
             [
              1,
              "#f0f921"
             ]
            ],
            "type": "histogram2d"
           }
          ],
          "histogram2dcontour": [
           {
            "colorbar": {
             "outlinewidth": 0,
             "ticks": ""
            },
            "colorscale": [
             [
              0,
              "#0d0887"
             ],
             [
              0.1111111111111111,
              "#46039f"
             ],
             [
              0.2222222222222222,
              "#7201a8"
             ],
             [
              0.3333333333333333,
              "#9c179e"
             ],
             [
              0.4444444444444444,
              "#bd3786"
             ],
             [
              0.5555555555555556,
              "#d8576b"
             ],
             [
              0.6666666666666666,
              "#ed7953"
             ],
             [
              0.7777777777777778,
              "#fb9f3a"
             ],
             [
              0.8888888888888888,
              "#fdca26"
             ],
             [
              1,
              "#f0f921"
             ]
            ],
            "type": "histogram2dcontour"
           }
          ],
          "mesh3d": [
           {
            "colorbar": {
             "outlinewidth": 0,
             "ticks": ""
            },
            "type": "mesh3d"
           }
          ],
          "parcoords": [
           {
            "line": {
             "colorbar": {
              "outlinewidth": 0,
              "ticks": ""
             }
            },
            "type": "parcoords"
           }
          ],
          "pie": [
           {
            "automargin": true,
            "type": "pie"
           }
          ],
          "scatter": [
           {
            "fillpattern": {
             "fillmode": "overlay",
             "size": 10,
             "solidity": 0.2
            },
            "type": "scatter"
           }
          ],
          "scatter3d": [
           {
            "line": {
             "colorbar": {
              "outlinewidth": 0,
              "ticks": ""
             }
            },
            "marker": {
             "colorbar": {
              "outlinewidth": 0,
              "ticks": ""
             }
            },
            "type": "scatter3d"
           }
          ],
          "scattercarpet": [
           {
            "marker": {
             "colorbar": {
              "outlinewidth": 0,
              "ticks": ""
             }
            },
            "type": "scattercarpet"
           }
          ],
          "scattergeo": [
           {
            "marker": {
             "colorbar": {
              "outlinewidth": 0,
              "ticks": ""
             }
            },
            "type": "scattergeo"
           }
          ],
          "scattergl": [
           {
            "marker": {
             "colorbar": {
              "outlinewidth": 0,
              "ticks": ""
             }
            },
            "type": "scattergl"
           }
          ],
          "scattermapbox": [
           {
            "marker": {
             "colorbar": {
              "outlinewidth": 0,
              "ticks": ""
             }
            },
            "type": "scattermapbox"
           }
          ],
          "scatterpolar": [
           {
            "marker": {
             "colorbar": {
              "outlinewidth": 0,
              "ticks": ""
             }
            },
            "type": "scatterpolar"
           }
          ],
          "scatterpolargl": [
           {
            "marker": {
             "colorbar": {
              "outlinewidth": 0,
              "ticks": ""
             }
            },
            "type": "scatterpolargl"
           }
          ],
          "scatterternary": [
           {
            "marker": {
             "colorbar": {
              "outlinewidth": 0,
              "ticks": ""
             }
            },
            "type": "scatterternary"
           }
          ],
          "surface": [
           {
            "colorbar": {
             "outlinewidth": 0,
             "ticks": ""
            },
            "colorscale": [
             [
              0,
              "#0d0887"
             ],
             [
              0.1111111111111111,
              "#46039f"
             ],
             [
              0.2222222222222222,
              "#7201a8"
             ],
             [
              0.3333333333333333,
              "#9c179e"
             ],
             [
              0.4444444444444444,
              "#bd3786"
             ],
             [
              0.5555555555555556,
              "#d8576b"
             ],
             [
              0.6666666666666666,
              "#ed7953"
             ],
             [
              0.7777777777777778,
              "#fb9f3a"
             ],
             [
              0.8888888888888888,
              "#fdca26"
             ],
             [
              1,
              "#f0f921"
             ]
            ],
            "type": "surface"
           }
          ],
          "table": [
           {
            "cells": {
             "fill": {
              "color": "#EBF0F8"
             },
             "line": {
              "color": "white"
             }
            },
            "header": {
             "fill": {
              "color": "#C8D4E3"
             },
             "line": {
              "color": "white"
             }
            },
            "type": "table"
           }
          ]
         },
         "layout": {
          "annotationdefaults": {
           "arrowcolor": "#2a3f5f",
           "arrowhead": 0,
           "arrowwidth": 1
          },
          "autotypenumbers": "strict",
          "coloraxis": {
           "colorbar": {
            "outlinewidth": 0,
            "ticks": ""
           }
          },
          "colorscale": {
           "diverging": [
            [
             0,
             "#8e0152"
            ],
            [
             0.1,
             "#c51b7d"
            ],
            [
             0.2,
             "#de77ae"
            ],
            [
             0.3,
             "#f1b6da"
            ],
            [
             0.4,
             "#fde0ef"
            ],
            [
             0.5,
             "#f7f7f7"
            ],
            [
             0.6,
             "#e6f5d0"
            ],
            [
             0.7,
             "#b8e186"
            ],
            [
             0.8,
             "#7fbc41"
            ],
            [
             0.9,
             "#4d9221"
            ],
            [
             1,
             "#276419"
            ]
           ],
           "sequential": [
            [
             0,
             "#0d0887"
            ],
            [
             0.1111111111111111,
             "#46039f"
            ],
            [
             0.2222222222222222,
             "#7201a8"
            ],
            [
             0.3333333333333333,
             "#9c179e"
            ],
            [
             0.4444444444444444,
             "#bd3786"
            ],
            [
             0.5555555555555556,
             "#d8576b"
            ],
            [
             0.6666666666666666,
             "#ed7953"
            ],
            [
             0.7777777777777778,
             "#fb9f3a"
            ],
            [
             0.8888888888888888,
             "#fdca26"
            ],
            [
             1,
             "#f0f921"
            ]
           ],
           "sequentialminus": [
            [
             0,
             "#0d0887"
            ],
            [
             0.1111111111111111,
             "#46039f"
            ],
            [
             0.2222222222222222,
             "#7201a8"
            ],
            [
             0.3333333333333333,
             "#9c179e"
            ],
            [
             0.4444444444444444,
             "#bd3786"
            ],
            [
             0.5555555555555556,
             "#d8576b"
            ],
            [
             0.6666666666666666,
             "#ed7953"
            ],
            [
             0.7777777777777778,
             "#fb9f3a"
            ],
            [
             0.8888888888888888,
             "#fdca26"
            ],
            [
             1,
             "#f0f921"
            ]
           ]
          },
          "colorway": [
           "#636efa",
           "#EF553B",
           "#00cc96",
           "#ab63fa",
           "#FFA15A",
           "#19d3f3",
           "#FF6692",
           "#B6E880",
           "#FF97FF",
           "#FECB52"
          ],
          "font": {
           "color": "#2a3f5f"
          },
          "geo": {
           "bgcolor": "white",
           "lakecolor": "white",
           "landcolor": "#E5ECF6",
           "showlakes": true,
           "showland": true,
           "subunitcolor": "white"
          },
          "hoverlabel": {
           "align": "left"
          },
          "hovermode": "closest",
          "mapbox": {
           "style": "light"
          },
          "paper_bgcolor": "white",
          "plot_bgcolor": "#E5ECF6",
          "polar": {
           "angularaxis": {
            "gridcolor": "white",
            "linecolor": "white",
            "ticks": ""
           },
           "bgcolor": "#E5ECF6",
           "radialaxis": {
            "gridcolor": "white",
            "linecolor": "white",
            "ticks": ""
           }
          },
          "scene": {
           "xaxis": {
            "backgroundcolor": "#E5ECF6",
            "gridcolor": "white",
            "gridwidth": 2,
            "linecolor": "white",
            "showbackground": true,
            "ticks": "",
            "zerolinecolor": "white"
           },
           "yaxis": {
            "backgroundcolor": "#E5ECF6",
            "gridcolor": "white",
            "gridwidth": 2,
            "linecolor": "white",
            "showbackground": true,
            "ticks": "",
            "zerolinecolor": "white"
           },
           "zaxis": {
            "backgroundcolor": "#E5ECF6",
            "gridcolor": "white",
            "gridwidth": 2,
            "linecolor": "white",
            "showbackground": true,
            "ticks": "",
            "zerolinecolor": "white"
           }
          },
          "shapedefaults": {
           "line": {
            "color": "#2a3f5f"
           }
          },
          "ternary": {
           "aaxis": {
            "gridcolor": "white",
            "linecolor": "white",
            "ticks": ""
           },
           "baxis": {
            "gridcolor": "white",
            "linecolor": "white",
            "ticks": ""
           },
           "bgcolor": "#E5ECF6",
           "caxis": {
            "gridcolor": "white",
            "linecolor": "white",
            "ticks": ""
           }
          },
          "title": {
           "x": 0.05
          },
          "xaxis": {
           "automargin": true,
           "gridcolor": "white",
           "linecolor": "white",
           "ticks": "",
           "title": {
            "standoff": 15
           },
           "zerolinecolor": "white",
           "zerolinewidth": 2
          },
          "yaxis": {
           "automargin": true,
           "gridcolor": "white",
           "linecolor": "white",
           "ticks": "",
           "title": {
            "standoff": 15
           },
           "zerolinecolor": "white",
           "zerolinewidth": 2
          }
         }
        },
        "width": 1000,
        "xaxis": {
         "anchor": "y",
         "constrain": "domain",
         "domain": [
          0,
          1
         ],
         "scaleanchor": "y"
        },
        "yaxis": {
         "anchor": "x",
         "autorange": "reversed",
         "constrain": "domain",
         "domain": [
          0,
          1
         ]
        }
       }
      }
     },
     "metadata": {},
     "output_type": "display_data"
    }
   ],
   "source": [
    "corr = df.corr()\n",
    "fig = px.imshow(corr,width=1000, height=1000)\n",
    "fig.show()"
   ]
  },
  {
   "cell_type": "code",
   "execution_count": 323,
   "metadata": {},
   "outputs": [
    {
     "name": "stdout",
     "output_type": "stream",
     "text": [
      "(1235, 9) (309, 9) (1235,) (309,)\n",
      "Year                          0\n",
      "Country                       0\n",
      "Latitude                      0\n",
      "Longitude                     1\n",
      "Start Year                    0\n",
      "Start Month                   2\n",
      "Start Day                     3\n",
      "Total Deaths                381\n",
      "Total Damages ('000 US$)    956\n",
      "dtype: int64\n"
     ]
    }
   ],
   "source": [
    "X = df.drop(['Dis Mag Value'], axis=1)\n",
    "y = df['Dis Mag Value']\n",
    "X_train, X_test, y_train, y_test = train_test_split(X, y, test_size=0.2, random_state=42)\n",
    "print(X_train.shape, X_test.shape, y_train.shape, y_test.shape)\n",
    "print(X.isna().sum())"
   ]
  },
  {
   "cell_type": "code",
   "execution_count": null,
   "metadata": {},
   "outputs": [],
   "source": [
    "# from sklearn.preprocessing import StandardScaler\n",
    "\n",
    "# scaler = StandardScaler()\n",
    "# X_train[['Latitude', 'Longitude', 'Local Time', 'Start Year', 'Start Month', 'Start Day', 'End Year', 'End Month', 'End Day', 'Total Deaths']] = scaler.fit_transform(X_train[['Latitude', 'Longitude', 'Local Time', 'Start Year', 'Start Month', 'Start Day', 'End Year', 'End Month', 'End Day', 'Total Deaths']])\n",
    "# X_test[['Latitude', 'Longitude', 'Local Time', 'Start Year', 'Start Month', 'Start Day', 'End Year', 'End Month', 'End Day', 'Total Deaths']] = scaler.transform(X_test[['Latitude', 'Longitude', 'Local Time', 'Start Year', 'Start Month', 'Start Day', 'End Year', 'End Month', 'End Day', 'Total Deaths']])"
   ]
  },
  {
   "cell_type": "code",
   "execution_count": 324,
   "metadata": {},
   "outputs": [],
   "source": [
    "y_train = y_train.fillna(0)\n",
    "y_test = y_test.fillna(0)\n",
    "y_train.isna().sum()\n",
    "X_train = X_train.fillna(0)\n",
    "X_test = X_test.fillna(0)"
   ]
  },
  {
   "cell_type": "code",
   "execution_count": 347,
   "metadata": {},
   "outputs": [
    {
     "name": "stdout",
     "output_type": "stream",
     "text": [
      "Mean Squared Error (MSE): 9.080487073691287\n"
     ]
    },
    {
     "data": {
      "text/plain": [
       "array([ 6.6345177 ,  4.663788  ,  5.505343  ,  6.1611204 ,  8.050586  ,\n",
       "        5.942601  ,  6.6255426 ,  6.591158  ,  5.5750017 ,  5.91858   ,\n",
       "        5.910101  ,  6.85436   ,  6.7055755 ,  6.1974645 ,  3.7631655 ,\n",
       "        7.1555977 ,  4.8987627 ,  5.5029545 ,  6.244809  ,  5.3195386 ,\n",
       "        4.858697  ,  5.6327796 ,  5.627194  ,  6.3126984 ,  5.505428  ,\n",
       "        6.9297867 ,  5.7420588 ,  6.987535  ,  6.578552  ,  2.0330482 ,\n",
       "        7.6012197 , 47.26802   ,  5.520368  ,  4.139876  ,  6.834544  ,\n",
       "        7.0742745 ,  5.8243866 ,  6.2015123 ,  5.5186486 ,  5.9666233 ,\n",
       "        5.760253  ,  6.56676   ,  3.7013502 ,  3.260978  ,  6.021658  ,\n",
       "        7.2316504 ,  3.317566  ,  3.043307  ,  7.248407  ,  6.753997  ,\n",
       "        3.5259373 ,  8.391703  ,  4.8780346 ,  6.235027  ,  4.9984455 ,\n",
       "        7.2068453 ,  4.9751606 ,  5.1078105 ,  6.344091  ,  6.981102  ,\n",
       "        5.895372  ,  5.7231164 ,  6.8321896 ,  7.1800885 ,  7.1975474 ,\n",
       "        5.5532765 ,  6.760875  ,  7.1496964 ,  5.4992223 ,  6.5375586 ,\n",
       "        5.2915454 ,  8.074646  ,  5.2198167 ,  5.7586403 ,  4.8194637 ,\n",
       "        6.9936    ,  6.9620566 ,  6.7227063 ,  6.9200034 ,  4.3625164 ,\n",
       "        4.4048967 ,  6.476881  ,  6.272247  ,  6.3003283 ,  0.9863219 ,\n",
       "        5.950007  ,  7.5221667 ,  4.7129645 ,  6.0265603 ,  5.359376  ,\n",
       "        0.29704437,  5.038537  ,  5.8909793 ,  5.8896403 ,  6.5716586 ,\n",
       "        5.1180825 ,  7.509046  ,  4.723155  ,  4.298067  ,  6.586334  ,\n",
       "        5.765481  ,  7.2663426 ,  6.547303  ,  7.1358805 ,  5.9984293 ,\n",
       "        8.061993  ,  6.284006  ,  6.447857  ,  6.173077  ,  4.42727   ,\n",
       "        5.7216473 ,  5.4245996 ,  5.795265  ,  7.618236  ,  6.815965  ,\n",
       "        7.164988  ,  4.401586  ,  5.35543   ,  6.6066155 ,  5.6922565 ,\n",
       "        6.320256  ,  6.669396  ,  7.6212325 ,  4.8696957 ,  4.1975694 ,\n",
       "        4.4199476 ,  3.8456523 ,  5.5046954 ,  5.999666  ,  6.175973  ,\n",
       "        5.4929285 ,  7.160831  ,  8.256274  ,  6.671562  ,  6.763193  ,\n",
       "        5.7024064 ,  5.5753317 ,  4.5860567 ,  6.100049  ,  7.231321  ,\n",
       "        4.534774  ,  5.5323176 ,  7.7683916 ,  5.1174636 ,  3.8124423 ,\n",
       "        3.5462763 ,  9.7043915 ,  5.880225  ,  9.658839  ,  5.758949  ,\n",
       "        6.6328983 ,  5.645664  ,  7.4499626 ,  5.9851217 ,  6.3575845 ,\n",
       "        6.8936815 ,  7.2965884 ,  6.2605057 ,  6.2181406 ,  6.2423553 ,\n",
       "        4.909917  ,  5.8220034 ,  7.2347627 ,  5.822829  ,  5.323237  ,\n",
       "        6.6069713 ,  7.62003   ,  1.9821609 ,  4.089624  ,  6.191073  ,\n",
       "        7.0158362 ,  6.0816336 ,  6.208253  ,  7.248447  ,  6.5635242 ,\n",
       "        8.338508  ,  5.064962  ,  7.9718313 ,  7.1360793 ,  6.289319  ,\n",
       "        7.0895147 ,  5.236302  ,  8.026699  ,  2.7392716 ,  6.641384  ,\n",
       "        7.5403147 ,  5.3263288 ,  6.3487186 ,  3.1563632 ,  7.004471  ,\n",
       "        6.931576  ,  6.1832323 ,  5.784986  ,  6.3549905 ,  5.220384  ,\n",
       "        6.5610156 ,  5.932538  ,  8.074238  ,  5.578045  ,  6.436095  ,\n",
       "        5.568792  ,  6.4766235 ,  5.996683  ,  6.0760007 ,  6.4070296 ,\n",
       "        5.108886  ,  7.4638357 ,  6.482566  ,  6.911536  ,  4.718789  ,\n",
       "        5.4458485 ,  8.130008  ,  6.2735763 ,  7.4038053 ,  7.737236  ,\n",
       "        5.5889874 ,  5.622793  ,  6.583286  ,  6.9918895 ,  7.032535  ,\n",
       "        4.977137  ,  7.26135   ,  5.576177  ,  5.8408957 ,  4.734182  ,\n",
       "        8.899854  ,  5.7249107 ,  6.0578856 ,  5.782981  ,  6.111823  ,\n",
       "        5.7419558 ,  4.854208  ,  6.861054  ,  6.038898  ,  6.5216393 ,\n",
       "        7.387043  ,  6.919255  ,  6.679635  ,  5.9405417 ,  2.3830101 ,\n",
       "        4.898858  ,  6.4635625 ,  5.780493  ,  7.757554  ,  5.7946525 ,\n",
       "        7.1884093 ,  5.3709292 ,  5.033051  ,  5.7772956 ,  5.872054  ,\n",
       "        4.7832584 ,  6.0301914 ,  7.0162983 ,  5.8199196 ,  7.657444  ,\n",
       "        8.167886  ,  5.755099  ,  5.5663533 ,  8.996599  ,  4.565162  ,\n",
       "        7.199772  ,  6.1787124 ,  5.7285495 ,  5.975257  ,  6.110573  ,\n",
       "        6.6096587 ,  6.4550014 ,  7.475403  ,  5.8172283 ,  6.102733  ,\n",
       "        5.700885  ,  3.9779925 ,  5.6449533 ,  6.6991787 ,  6.5470796 ,\n",
       "        5.738801  ,  5.928216  ,  7.987075  ,  6.9777822 ,  6.5316286 ,\n",
       "        6.996692  ,  6.557254  ,  5.0203867 ,  6.202147  ,  5.7484026 ,\n",
       "        6.7828155 ,  6.331137  ,  7.2073674 ,  6.716651  ,  3.111759  ,\n",
       "        5.66717   ,  3.1921742 ,  5.08755   ,  4.318977  ,  6.3782263 ,\n",
       "        5.317603  ,  6.599168  ,  3.4998763 ,  6.431465  ,  4.8621254 ,\n",
       "        7.811184  ,  5.1352177 ,  5.303697  ,  7.5877676 ,  4.7404523 ,\n",
       "        6.0119805 ,  5.53046   ,  4.98777   ,  5.924277  ], dtype=float32)"
      ]
     },
     "execution_count": 347,
     "metadata": {},
     "output_type": "execute_result"
    }
   ],
   "source": [
    "import xgboost as xgb\n",
    "from sklearn.metrics import mean_squared_error\n",
    "\n",
    "\n",
    "model = xgb.XGBRegressor()\n",
    "\n",
    "# Train the model\n",
    "model.fit(X_train, y_train)\n",
    "\n",
    "# Make predictions on the test set\n",
    "y_pred = model.predict(X_test)\n",
    " \n",
    "# Evaluate the model using mean squared error (MSE)\n",
    "mse = mean_squared_error(y_test, y_pred)\n",
    "print(\"Mean Squared Error (MSE):\", mse)\n",
    "\n",
    "y_pred"
   ]
  },
  {
   "cell_type": "code",
   "execution_count": 349,
   "metadata": {},
   "outputs": [
    {
     "data": {
      "text/plain": [
       "array([ 5.,  5.,  6.,  7.,  9.,  5.,  6.,  7.,  6.,  6.,  7.,  8.,  7.,\n",
       "        5.,  0.,  6.,  7.,  6.,  6.,  6.,  6.,  6.,  7.,  6.,  7.,  7.,\n",
       "        6.,  6.,  6.,  0.,  7.,  5.,  5.,  6.,  8.,  6.,  7.,  6.,  5.,\n",
       "        7.,  6.,  5.,  0.,  7.,  6.,  7.,  6.,  4.,  5.,  6.,  7.,  0.,\n",
       "        5.,  8.,  7.,  6.,  6.,  6.,  6.,  7.,  5.,  6.,  6.,  0.,  8.,\n",
       "        6.,  6.,  8.,  6.,  5.,  7.,  7.,  6.,  7.,  0.,  0.,  7.,  7.,\n",
       "        7.,  8.,  5.,  7.,  7.,  7.,  0.,  6.,  8.,  7.,  6.,  5.,  6.,\n",
       "        6.,  7.,  6.,  6.,  7.,  7.,  7.,  6.,  8.,  6.,  8.,  7.,  7.,\n",
       "        7.,  9.,  7.,  8.,  6.,  7.,  5.,  6.,  6.,  7.,  6.,  7.,  6.,\n",
       "        6.,  7.,  8.,  8.,  0.,  7.,  7.,  0.,  7.,  6.,  5.,  5.,  6.,\n",
       "        5.,  7.,  8.,  6.,  8.,  7.,  6.,  5.,  5.,  6.,  0.,  5.,  8.,\n",
       "        7.,  6.,  8.,  9.,  5.,  9.,  7.,  7.,  6.,  8.,  6.,  8.,  6.,\n",
       "        7.,  6.,  6.,  7.,  5.,  0.,  7.,  5.,  5.,  0.,  7.,  0.,  5.,\n",
       "        6.,  8.,  6.,  5.,  7.,  7.,  7.,  5.,  8.,  6.,  7.,  7.,  5.,\n",
       "        7.,  6.,  6.,  7.,  5.,  6.,  6.,  6.,  7.,  6.,  7.,  8.,  7.,\n",
       "        0.,  6.,  7.,  6.,  0.,  6.,  7.,  7.,  6.,  6.,  7.,  7.,  7.,\n",
       "        7.,  5.,  5.,  7.,  6.,  8.,  8.,  0.,  8.,  6.,  7.,  8.,  0.,\n",
       "        6.,  6.,  5.,  7.,  8.,  6.,  7.,  6.,  6.,  5.,  6.,  0.,  7.,\n",
       "        6.,  7.,  7.,  6.,  6.,  0.,  7.,  6.,  7.,  7.,  6.,  7.,  6.,\n",
       "        7.,  6.,  7.,  6.,  6.,  6.,  6.,  8., 10.,  7.,  6.,  9.,  4.,\n",
       "        7.,  7.,  6.,  7.,  6.,  7.,  7.,  7.,  6.,  6.,  6.,  0.,  6.,\n",
       "        6.,  7.,  8.,  8.,  7.,  7.,  7.,  7.,  8.,  5.,  4.,  7.,  8.,\n",
       "        6.,  6.,  6.,  7.,  8.,  6.,  5.,  6.,  7.,  6.,  7.,  5.,  7.,\n",
       "        8.,  7.,  7.,  6.,  8.,  5.,  6.,  6.,  5.,  7.])"
      ]
     },
     "execution_count": 349,
     "metadata": {},
     "output_type": "execute_result"
    }
   ],
   "source": [
    "y_test.to_numpy()"
   ]
  },
  {
   "cell_type": "code",
   "execution_count": 342,
   "metadata": {},
   "outputs": [
    {
     "name": "stdout",
     "output_type": "stream",
     "text": [
      "R2 Score:  0.12636432175545653\n"
     ]
    }
   ],
   "source": [
    "from sklearn.ensemble import BaggingRegressor\n",
    "from sklearn.metrics import r2_score\n",
    "\n",
    "\n",
    "bagging = BaggingRegressor(base_estimator=None, n_estimators=10, max_samples=1.0, max_features=1.0, bootstrap=True, bootstrap_features=False, oob_score=False, warm_start=False, n_jobs=None, random_state=None, verbose=0)\n",
    "bagging.fit(X_train,y_train)\n",
    "y_pred = bagging.predict(X_test)\n",
    "# accuracy = accuracy_score(y_test, y_pred)\n",
    "# print(\"Accuracy: %.2f%%\" % (accuracy * 100.0))\n",
    "r2 = r2_score(y_test, y_pred)\n",
    "print(\"R2 Score: \", r2)"
   ]
  },
  {
   "cell_type": "code",
   "execution_count": 338,
   "metadata": {},
   "outputs": [
    {
     "name": "stdout",
     "output_type": "stream",
     "text": [
      "R2 Score:  -0.1782344798125457\n"
     ]
    }
   ],
   "source": [
    "from sklearn.ensemble import AdaBoostRegressor\n",
    "\n",
    "adaboost = AdaBoostRegressor(n_estimators=100, learning_rate=1, random_state=1)\n",
    "\n",
    "adaboost.fit(X_train,y_train)\n",
    "y_pred = adaboost.predict(X_test)\n",
    "\n",
    "# accuracy = accuracy_score(y_test, y_pred)\n",
    "# print(\"Accuracy: %.2f%%\" % (accuracy * 100.0))\n",
    "r2 = r2_score(y_test, y_pred)\n",
    "print(\"R2 Score: \", r2)"
   ]
  },
  {
   "cell_type": "code",
   "execution_count": 332,
   "metadata": {},
   "outputs": [],
   "source": [
    "from keras.models import Sequential\n",
    "from keras.layers import Dense\n",
    "\n",
    "def create_model(neurons, activation, optimizer, loss):\n",
    "    model = Sequential()\n",
    "    model.add(Dense(neurons, activation=activation, input_shape=(X_train.shape[1],)))\n",
    "    model.add(Dense(neurons, activation=activation))\n",
    "    model.add(Dense(1, activation='relu'))\n",
    "    \n",
    "    model.compile(optimizer=optimizer, loss=loss, metrics=['accuracy'])\n",
    "    \n",
    "    return model"
   ]
  },
  {
   "cell_type": "code",
   "execution_count": 333,
   "metadata": {},
   "outputs": [
    {
     "name": "stderr",
     "output_type": "stream",
     "text": [
      "C:\\Users\\ankit\\AppData\\Local\\Temp\\ipykernel_11664\\1463224282.py:3: DeprecationWarning:\n",
      "\n",
      "KerasClassifier is deprecated, use Sci-Keras (https://github.com/adriangb/scikeras) instead. See https://www.adriangb.com/scikeras/stable/migration.html for help migrating.\n",
      "\n"
     ]
    }
   ],
   "source": [
    "from keras.wrappers.scikit_learn import KerasClassifier\n",
    "\n",
    "model = KerasClassifier(build_fn=create_model, verbose=0)\n",
    "\n",
    "neurons = [64, 128]\n",
    "# neurons = [16]\n",
    "batch_size = [10, 20]\n",
    "# batch_size = [10]\n",
    "epochs = [10]\n",
    "activation = ['relu']\n",
    "# activation = ['sigmoid', 'relu']\n",
    "optimizer = ['SGD', 'RMSprop', 'Adam']\n",
    "# optimizer = ['SGD', 'Adadelta']\n",
    "loss = ['squared_hinge']\n",
    "\n",
    "param_grid = dict(neurons=neurons, batch_size=batch_size, epochs=epochs, activation=activation, optimizer=optimizer, loss=loss)"
   ]
  },
  {
   "cell_type": "code",
   "execution_count": 334,
   "metadata": {},
   "outputs": [
    {
     "name": "stdout",
     "output_type": "stream",
     "text": [
      "Best: 0.042915 using {'activation': 'relu', 'batch_size': 10, 'epochs': 10, 'loss': 'squared_hinge', 'neurons': 128, 'optimizer': 'Adam'}\n",
      "0.034008 (0.030469) with: {'activation': 'relu', 'batch_size': 10, 'epochs': 10, 'loss': 'squared_hinge', 'neurons': 64, 'optimizer': 'SGD'}\n",
      "0.023482 (0.025657) with: {'activation': 'relu', 'batch_size': 10, 'epochs': 10, 'loss': 'squared_hinge', 'neurons': 64, 'optimizer': 'RMSprop'}\n",
      "0.021862 (0.026806) with: {'activation': 'relu', 'batch_size': 10, 'epochs': 10, 'loss': 'squared_hinge', 'neurons': 64, 'optimizer': 'Adam'}\n",
      "0.024291 (0.029082) with: {'activation': 'relu', 'batch_size': 10, 'epochs': 10, 'loss': 'squared_hinge', 'neurons': 128, 'optimizer': 'SGD'}\n",
      "0.017004 (0.020707) with: {'activation': 'relu', 'batch_size': 10, 'epochs': 10, 'loss': 'squared_hinge', 'neurons': 128, 'optimizer': 'RMSprop'}\n",
      "0.042915 (0.021817) with: {'activation': 'relu', 'batch_size': 10, 'epochs': 10, 'loss': 'squared_hinge', 'neurons': 128, 'optimizer': 'Adam'}\n",
      "0.012146 (0.020484) with: {'activation': 'relu', 'batch_size': 20, 'epochs': 10, 'loss': 'squared_hinge', 'neurons': 64, 'optimizer': 'SGD'}\n",
      "0.008907 (0.010681) with: {'activation': 'relu', 'batch_size': 20, 'epochs': 10, 'loss': 'squared_hinge', 'neurons': 64, 'optimizer': 'RMSprop'}\n",
      "0.028340 (0.021270) with: {'activation': 'relu', 'batch_size': 20, 'epochs': 10, 'loss': 'squared_hinge', 'neurons': 64, 'optimizer': 'Adam'}\n",
      "0.034008 (0.030469) with: {'activation': 'relu', 'batch_size': 20, 'epochs': 10, 'loss': 'squared_hinge', 'neurons': 128, 'optimizer': 'SGD'}\n",
      "0.021053 (0.019735) with: {'activation': 'relu', 'batch_size': 20, 'epochs': 10, 'loss': 'squared_hinge', 'neurons': 128, 'optimizer': 'RMSprop'}\n",
      "0.016194 (0.016791) with: {'activation': 'relu', 'batch_size': 20, 'epochs': 10, 'loss': 'squared_hinge', 'neurons': 128, 'optimizer': 'Adam'}\n"
     ]
    }
   ],
   "source": [
    "from sklearn.model_selection import GridSearchCV\n",
    "\n",
    "grid = GridSearchCV(estimator=model, param_grid=param_grid, n_jobs=-1)\n",
    "grid_result = grid.fit(X_train, y_train)\n",
    "\n",
    "print(\"Best: %f using %s\" % (grid_result.best_score_, grid_result.best_params_))\n",
    "means = grid_result.cv_results_['mean_test_score']\n",
    "stds = grid_result.cv_results_['std_test_score']\n",
    "params = grid_result.cv_results_['params']\n",
    "for mean, stdev, param in zip(means, stds, params):\n",
    "    print(\"%f (%f) with: %r\" % (mean, stdev, param))"
   ]
  }
 ],
 "metadata": {
  "kernelspec": {
   "display_name": "base",
   "language": "python",
   "name": "python3"
  },
  "language_info": {
   "codemirror_mode": {
    "name": "ipython",
    "version": 3
   },
   "file_extension": ".py",
   "mimetype": "text/x-python",
   "name": "python",
   "nbconvert_exporter": "python",
   "pygments_lexer": "ipython3",
   "version": "3.10.9"
  },
  "orig_nbformat": 4
 },
 "nbformat": 4,
 "nbformat_minor": 2
}
